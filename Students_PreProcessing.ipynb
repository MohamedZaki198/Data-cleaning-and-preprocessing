{
 "cells": [
  {
   "cell_type": "code",
   "execution_count": 1,
   "id": "f3190582-f8e9-4dbb-8b36-aa37734629de",
   "metadata": {},
   "outputs": [
    {
     "data": {
      "text/plain": [
       "<bound method NDFrame.head of         fNAME      lNAME  Age  gender       country  residence  entryEXAM  \\\n",
       "0   Christina     Binger   44  Female        Norway    Private         72   \n",
       "1        Alex   Walekhwa   60       M         Kenya    Private         79   \n",
       "2      Philip        Leo   25    Male        Uganda  Sognsvann         55   \n",
       "3       Shoni  Hlongwane   22       F           Rsa  Sognsvann         40   \n",
       "4       Maria   Kedibone   23  Female  South Africa  Sognsvann         65   \n",
       "..        ...        ...  ...     ...           ...        ...        ...   \n",
       "72      Clara    Bernard   43  Female        France    Private         80   \n",
       "73     Julian    Nielsen   31    Male       Denmark  Sognsvann         90   \n",
       "74     Sophie      Brown   33  Female            UK  Sognsvann         96   \n",
       "75       Leon      Bauer   35    Male       Germany  Sognsvann         90   \n",
       "76   Mohammed      Salim   31    Male        Somali  Sognsvann         35   \n",
       "\n",
       "   prevEducation  studyHOURS  Python  DB  \n",
       "0        Masters         158    59.0  55  \n",
       "1        Diploma         150    60.0  75  \n",
       "2     HighSchool         130    74.0  50  \n",
       "3    High School         120     NaN  44  \n",
       "4    High School         122    91.0  80  \n",
       "..           ...         ...     ...  ..  \n",
       "72     Bachelors         150    75.0  43  \n",
       "73       Masters         158    84.0  83  \n",
       "74       Masters         158    85.0  90  \n",
       "75       Masters         160    87.0  74  \n",
       "76       Masters         144    72.0  90  \n",
       "\n",
       "[77 rows x 11 columns]>"
      ]
     },
     "execution_count": 1,
     "metadata": {},
     "output_type": "execute_result"
    }
   ],
   "source": [
    "import pandas as pd\n",
    "df_data = pd.read_csv(\"F:/DEPIPandas/Pandas Practice assignment/Data/bi.csv\", encoding=\"cp1252\")\n",
    "df_data.head"
   ]
  },
  {
   "cell_type": "code",
   "execution_count": 2,
   "id": "bfe2f5d5-43a9-4010-9b37-39ac8b04cb63",
   "metadata": {},
   "outputs": [
    {
     "data": {
      "text/plain": [
       "fNAME             object\n",
       "lNAME             object\n",
       "Age                int64\n",
       "gender            object\n",
       "country           object\n",
       "residence         object\n",
       "entryEXAM          int64\n",
       "prevEducation     object\n",
       "studyHOURS         int64\n",
       "Python           float64\n",
       "DB                 int64\n",
       "dtype: object"
      ]
     },
     "execution_count": 2,
     "metadata": {},
     "output_type": "execute_result"
    }
   ],
   "source": [
    "df_data.dtypes"
   ]
  },
  {
   "cell_type": "code",
   "execution_count": 3,
   "id": "248babb3-9ed6-48c6-9cc0-4e8f6b0a65f9",
   "metadata": {},
   "outputs": [
    {
     "data": {
      "text/plain": [
       "(77, 11)"
      ]
     },
     "execution_count": 3,
     "metadata": {},
     "output_type": "execute_result"
    }
   ],
   "source": [
    "df_data.shape\n"
   ]
  },
  {
   "cell_type": "code",
   "execution_count": 4,
   "id": "276a1b9d-7586-4785-a3c1-5295b8159b27",
   "metadata": {},
   "outputs": [
    {
     "data": {
      "text/plain": [
       "Index(['fNAME', 'lNAME', 'Age', 'gender', 'country', 'residence', 'entryEXAM',\n",
       "       'prevEducation', 'studyHOURS', 'Python', 'DB'],\n",
       "      dtype='object')"
      ]
     },
     "execution_count": 4,
     "metadata": {},
     "output_type": "execute_result"
    }
   ],
   "source": [
    "df_data.columns"
   ]
  },
  {
   "cell_type": "code",
   "execution_count": 5,
   "id": "42e91592-59ce-45b3-b856-1a9d12de3aa1",
   "metadata": {},
   "outputs": [
    {
     "name": "stdout",
     "output_type": "stream",
     "text": [
      "<class 'pandas.core.frame.DataFrame'>\n",
      "RangeIndex: 77 entries, 0 to 76\n",
      "Data columns (total 11 columns):\n",
      " #   Column         Non-Null Count  Dtype  \n",
      "---  ------         --------------  -----  \n",
      " 0   fNAME          77 non-null     object \n",
      " 1   lNAME          77 non-null     object \n",
      " 2   Age            77 non-null     int64  \n",
      " 3   gender         77 non-null     object \n",
      " 4   country        77 non-null     object \n",
      " 5   residence      77 non-null     object \n",
      " 6   entryEXAM      77 non-null     int64  \n",
      " 7   prevEducation  77 non-null     object \n",
      " 8   studyHOURS     77 non-null     int64  \n",
      " 9   Python         75 non-null     float64\n",
      " 10  DB             77 non-null     int64  \n",
      "dtypes: float64(1), int64(4), object(6)\n",
      "memory usage: 6.7+ KB\n"
     ]
    }
   ],
   "source": [
    "df_data.info()"
   ]
  },
  {
   "cell_type": "code",
   "execution_count": 6,
   "id": "f81410f9-af34-4041-b5b2-b08ebc5c9f50",
   "metadata": {},
   "outputs": [
    {
     "data": {
      "text/html": [
       "<div>\n",
       "<style scoped>\n",
       "    .dataframe tbody tr th:only-of-type {\n",
       "        vertical-align: middle;\n",
       "    }\n",
       "\n",
       "    .dataframe tbody tr th {\n",
       "        vertical-align: top;\n",
       "    }\n",
       "\n",
       "    .dataframe thead th {\n",
       "        text-align: right;\n",
       "    }\n",
       "</style>\n",
       "<table border=\"1\" class=\"dataframe\">\n",
       "  <thead>\n",
       "    <tr style=\"text-align: right;\">\n",
       "      <th></th>\n",
       "      <th>Age</th>\n",
       "      <th>entryEXAM</th>\n",
       "      <th>studyHOURS</th>\n",
       "      <th>Python</th>\n",
       "      <th>DB</th>\n",
       "    </tr>\n",
       "  </thead>\n",
       "  <tbody>\n",
       "    <tr>\n",
       "      <th>count</th>\n",
       "      <td>77.000000</td>\n",
       "      <td>77.000000</td>\n",
       "      <td>77.000000</td>\n",
       "      <td>75.000000</td>\n",
       "      <td>77.000000</td>\n",
       "    </tr>\n",
       "    <tr>\n",
       "      <th>mean</th>\n",
       "      <td>35.207792</td>\n",
       "      <td>76.753247</td>\n",
       "      <td>149.714286</td>\n",
       "      <td>75.853333</td>\n",
       "      <td>69.467532</td>\n",
       "    </tr>\n",
       "    <tr>\n",
       "      <th>std</th>\n",
       "      <td>10.341966</td>\n",
       "      <td>16.475784</td>\n",
       "      <td>12.743272</td>\n",
       "      <td>15.410328</td>\n",
       "      <td>17.033701</td>\n",
       "    </tr>\n",
       "    <tr>\n",
       "      <th>min</th>\n",
       "      <td>21.000000</td>\n",
       "      <td>28.000000</td>\n",
       "      <td>114.000000</td>\n",
       "      <td>15.000000</td>\n",
       "      <td>30.000000</td>\n",
       "    </tr>\n",
       "    <tr>\n",
       "      <th>25%</th>\n",
       "      <td>27.000000</td>\n",
       "      <td>69.000000</td>\n",
       "      <td>144.000000</td>\n",
       "      <td>71.000000</td>\n",
       "      <td>56.000000</td>\n",
       "    </tr>\n",
       "    <tr>\n",
       "      <th>50%</th>\n",
       "      <td>33.000000</td>\n",
       "      <td>80.000000</td>\n",
       "      <td>156.000000</td>\n",
       "      <td>81.000000</td>\n",
       "      <td>71.000000</td>\n",
       "    </tr>\n",
       "    <tr>\n",
       "      <th>75%</th>\n",
       "      <td>42.000000</td>\n",
       "      <td>90.000000</td>\n",
       "      <td>158.000000</td>\n",
       "      <td>85.000000</td>\n",
       "      <td>83.000000</td>\n",
       "    </tr>\n",
       "    <tr>\n",
       "      <th>max</th>\n",
       "      <td>71.000000</td>\n",
       "      <td>98.000000</td>\n",
       "      <td>160.000000</td>\n",
       "      <td>91.000000</td>\n",
       "      <td>100.000000</td>\n",
       "    </tr>\n",
       "  </tbody>\n",
       "</table>\n",
       "</div>"
      ],
      "text/plain": [
       "             Age  entryEXAM  studyHOURS     Python          DB\n",
       "count  77.000000  77.000000   77.000000  75.000000   77.000000\n",
       "mean   35.207792  76.753247  149.714286  75.853333   69.467532\n",
       "std    10.341966  16.475784   12.743272  15.410328   17.033701\n",
       "min    21.000000  28.000000  114.000000  15.000000   30.000000\n",
       "25%    27.000000  69.000000  144.000000  71.000000   56.000000\n",
       "50%    33.000000  80.000000  156.000000  81.000000   71.000000\n",
       "75%    42.000000  90.000000  158.000000  85.000000   83.000000\n",
       "max    71.000000  98.000000  160.000000  91.000000  100.000000"
      ]
     },
     "execution_count": 6,
     "metadata": {},
     "output_type": "execute_result"
    }
   ],
   "source": [
    "df_data.describe()"
   ]
  },
  {
   "cell_type": "markdown",
   "id": "17f0275c-e8c8-4d16-8d96-1929028f747e",
   "metadata": {},
   "source": [
    "Cleaning Data"
   ]
  },
  {
   "cell_type": "code",
   "execution_count": 7,
   "id": "0fa4be19-6a91-40b5-9d21-33da464d5cea",
   "metadata": {},
   "outputs": [
    {
     "data": {
      "text/plain": [
       "array(['Female', 'M', 'Male', 'F', 'female', 'male'], dtype=object)"
      ]
     },
     "execution_count": 7,
     "metadata": {},
     "output_type": "execute_result"
    }
   ],
   "source": [
    "df_data['gender'].unique()"
   ]
  },
  {
   "cell_type": "code",
   "execution_count": 8,
   "id": "4360a6b4-6fee-49d5-92a3-cd0ce467e516",
   "metadata": {},
   "outputs": [
    {
     "data": {
      "text/plain": [
       "array(['Norway', 'Kenya', 'Uganda', 'Rsa', 'South Africa', 'Norge',\n",
       "       'norway', 'Denmark', 'Netherlands', 'Italy', 'Spain', 'UK',\n",
       "       'Somali', 'Nigeria', 'Germany', 'France'], dtype=object)"
      ]
     },
     "execution_count": 8,
     "metadata": {},
     "output_type": "execute_result"
    }
   ],
   "source": [
    "df_data['country'].unique()"
   ]
  },
  {
   "cell_type": "code",
   "execution_count": 9,
   "id": "aacad7b5-1fe6-47fc-93c6-884b08ce9f0a",
   "metadata": {},
   "outputs": [
    {
     "data": {
      "text/plain": [
       "array(['Masters', 'Diploma', 'HighSchool', 'High School', 'Bachelors',\n",
       "       'Barrrchelors', 'diploma', 'DIPLOMA', 'Diplomaaa', 'Doctorate'],\n",
       "      dtype=object)"
      ]
     },
     "execution_count": 9,
     "metadata": {},
     "output_type": "execute_result"
    }
   ],
   "source": [
    "df_data['prevEducation'].unique()"
   ]
  },
  {
   "cell_type": "code",
   "execution_count": 10,
   "id": "d5fe14ed-f15b-4c6b-a39b-c19a22b513b7",
   "metadata": {},
   "outputs": [],
   "source": [
    "df_data[\"gender\"] = df_data[\"gender\"].replace([\"M\", \"male\"], \"Male\")\n"
   ]
  },
  {
   "cell_type": "code",
   "execution_count": 11,
   "id": "93456f81-f9af-455e-a8c4-d1cca1f230af",
   "metadata": {},
   "outputs": [],
   "source": [
    "df_data[\"gender\"] = df_data[\"gender\"].replace([\"F\", \"female\"], \"Female\")"
   ]
  },
  {
   "cell_type": "code",
   "execution_count": 12,
   "id": "ea91dc2e-91f2-49a2-8cec-0def7aa7cb6e",
   "metadata": {},
   "outputs": [],
   "source": [
    "df_data['prevEducation'] = df_data['prevEducation'].replace(['HighSchool'],'High School')"
   ]
  },
  {
   "cell_type": "code",
   "execution_count": 13,
   "id": "9e1b422e-f4fa-4ba3-8a05-a5b6f8c3c9fa",
   "metadata": {},
   "outputs": [],
   "source": [
    "df_data['prevEducation'] = df_data['prevEducation'].replace(['diploma','DIPLOMA','Diplomaaa'],'Diploma')"
   ]
  },
  {
   "cell_type": "code",
   "execution_count": 14,
   "id": "e1b52ccd-fb6d-4285-9a04-4cfe6686ebbf",
   "metadata": {},
   "outputs": [],
   "source": [
    "df_data['prevEducation'] = df_data['prevEducation'].replace(['Barrrchelors'],'Bachelors')"
   ]
  },
  {
   "cell_type": "code",
   "execution_count": 15,
   "id": "2dcd2c07-9044-402f-b00d-7aca4712fe21",
   "metadata": {},
   "outputs": [],
   "source": [
    "df_data['country'] = df_data['country'].replace(['norway'],'Norway')"
   ]
  },
  {
   "cell_type": "code",
   "execution_count": 16,
   "id": "301ea4b7-aaa1-4960-a8ff-870a699261f0",
   "metadata": {},
   "outputs": [
    {
     "data": {
      "text/html": [
       "<div>\n",
       "<style scoped>\n",
       "    .dataframe tbody tr th:only-of-type {\n",
       "        vertical-align: middle;\n",
       "    }\n",
       "\n",
       "    .dataframe tbody tr th {\n",
       "        vertical-align: top;\n",
       "    }\n",
       "\n",
       "    .dataframe thead th {\n",
       "        text-align: right;\n",
       "    }\n",
       "</style>\n",
       "<table border=\"1\" class=\"dataframe\">\n",
       "  <thead>\n",
       "    <tr style=\"text-align: right;\">\n",
       "      <th></th>\n",
       "      <th>fNAME</th>\n",
       "      <th>lNAME</th>\n",
       "      <th>Age</th>\n",
       "      <th>gender</th>\n",
       "      <th>country</th>\n",
       "      <th>residence</th>\n",
       "      <th>entryEXAM</th>\n",
       "      <th>prevEducation</th>\n",
       "      <th>studyHOURS</th>\n",
       "      <th>Python</th>\n",
       "      <th>DB</th>\n",
       "    </tr>\n",
       "  </thead>\n",
       "  <tbody>\n",
       "    <tr>\n",
       "      <th>0</th>\n",
       "      <td>Christina</td>\n",
       "      <td>Binger</td>\n",
       "      <td>44</td>\n",
       "      <td>Female</td>\n",
       "      <td>Norway</td>\n",
       "      <td>Private</td>\n",
       "      <td>72</td>\n",
       "      <td>Masters</td>\n",
       "      <td>158</td>\n",
       "      <td>59.0</td>\n",
       "      <td>55</td>\n",
       "    </tr>\n",
       "    <tr>\n",
       "      <th>1</th>\n",
       "      <td>Alex</td>\n",
       "      <td>Walekhwa</td>\n",
       "      <td>60</td>\n",
       "      <td>Male</td>\n",
       "      <td>Kenya</td>\n",
       "      <td>Private</td>\n",
       "      <td>79</td>\n",
       "      <td>Diploma</td>\n",
       "      <td>150</td>\n",
       "      <td>60.0</td>\n",
       "      <td>75</td>\n",
       "    </tr>\n",
       "    <tr>\n",
       "      <th>2</th>\n",
       "      <td>Philip</td>\n",
       "      <td>Leo</td>\n",
       "      <td>25</td>\n",
       "      <td>Male</td>\n",
       "      <td>Uganda</td>\n",
       "      <td>Sognsvann</td>\n",
       "      <td>55</td>\n",
       "      <td>High School</td>\n",
       "      <td>130</td>\n",
       "      <td>74.0</td>\n",
       "      <td>50</td>\n",
       "    </tr>\n",
       "    <tr>\n",
       "      <th>3</th>\n",
       "      <td>Shoni</td>\n",
       "      <td>Hlongwane</td>\n",
       "      <td>22</td>\n",
       "      <td>Female</td>\n",
       "      <td>Rsa</td>\n",
       "      <td>Sognsvann</td>\n",
       "      <td>40</td>\n",
       "      <td>High School</td>\n",
       "      <td>120</td>\n",
       "      <td>NaN</td>\n",
       "      <td>44</td>\n",
       "    </tr>\n",
       "    <tr>\n",
       "      <th>4</th>\n",
       "      <td>Maria</td>\n",
       "      <td>Kedibone</td>\n",
       "      <td>23</td>\n",
       "      <td>Female</td>\n",
       "      <td>South Africa</td>\n",
       "      <td>Sognsvann</td>\n",
       "      <td>65</td>\n",
       "      <td>High School</td>\n",
       "      <td>122</td>\n",
       "      <td>91.0</td>\n",
       "      <td>80</td>\n",
       "    </tr>\n",
       "    <tr>\n",
       "      <th>...</th>\n",
       "      <td>...</td>\n",
       "      <td>...</td>\n",
       "      <td>...</td>\n",
       "      <td>...</td>\n",
       "      <td>...</td>\n",
       "      <td>...</td>\n",
       "      <td>...</td>\n",
       "      <td>...</td>\n",
       "      <td>...</td>\n",
       "      <td>...</td>\n",
       "      <td>...</td>\n",
       "    </tr>\n",
       "    <tr>\n",
       "      <th>72</th>\n",
       "      <td>Clara</td>\n",
       "      <td>Bernard</td>\n",
       "      <td>43</td>\n",
       "      <td>Female</td>\n",
       "      <td>France</td>\n",
       "      <td>Private</td>\n",
       "      <td>80</td>\n",
       "      <td>Bachelors</td>\n",
       "      <td>150</td>\n",
       "      <td>75.0</td>\n",
       "      <td>43</td>\n",
       "    </tr>\n",
       "    <tr>\n",
       "      <th>73</th>\n",
       "      <td>Julian</td>\n",
       "      <td>Nielsen</td>\n",
       "      <td>31</td>\n",
       "      <td>Male</td>\n",
       "      <td>Denmark</td>\n",
       "      <td>Sognsvann</td>\n",
       "      <td>90</td>\n",
       "      <td>Masters</td>\n",
       "      <td>158</td>\n",
       "      <td>84.0</td>\n",
       "      <td>83</td>\n",
       "    </tr>\n",
       "    <tr>\n",
       "      <th>74</th>\n",
       "      <td>Sophie</td>\n",
       "      <td>Brown</td>\n",
       "      <td>33</td>\n",
       "      <td>Female</td>\n",
       "      <td>UK</td>\n",
       "      <td>Sognsvann</td>\n",
       "      <td>96</td>\n",
       "      <td>Masters</td>\n",
       "      <td>158</td>\n",
       "      <td>85.0</td>\n",
       "      <td>90</td>\n",
       "    </tr>\n",
       "    <tr>\n",
       "      <th>75</th>\n",
       "      <td>Leon</td>\n",
       "      <td>Bauer</td>\n",
       "      <td>35</td>\n",
       "      <td>Male</td>\n",
       "      <td>Germany</td>\n",
       "      <td>Sognsvann</td>\n",
       "      <td>90</td>\n",
       "      <td>Masters</td>\n",
       "      <td>160</td>\n",
       "      <td>87.0</td>\n",
       "      <td>74</td>\n",
       "    </tr>\n",
       "    <tr>\n",
       "      <th>76</th>\n",
       "      <td>Mohammed</td>\n",
       "      <td>Salim</td>\n",
       "      <td>31</td>\n",
       "      <td>Male</td>\n",
       "      <td>Somali</td>\n",
       "      <td>Sognsvann</td>\n",
       "      <td>35</td>\n",
       "      <td>Masters</td>\n",
       "      <td>144</td>\n",
       "      <td>72.0</td>\n",
       "      <td>90</td>\n",
       "    </tr>\n",
       "  </tbody>\n",
       "</table>\n",
       "<p>77 rows × 11 columns</p>\n",
       "</div>"
      ],
      "text/plain": [
       "        fNAME      lNAME  Age  gender       country  residence  entryEXAM  \\\n",
       "0   Christina     Binger   44  Female        Norway    Private         72   \n",
       "1        Alex   Walekhwa   60    Male         Kenya    Private         79   \n",
       "2      Philip        Leo   25    Male        Uganda  Sognsvann         55   \n",
       "3       Shoni  Hlongwane   22  Female           Rsa  Sognsvann         40   \n",
       "4       Maria   Kedibone   23  Female  South Africa  Sognsvann         65   \n",
       "..        ...        ...  ...     ...           ...        ...        ...   \n",
       "72      Clara    Bernard   43  Female        France    Private         80   \n",
       "73     Julian    Nielsen   31    Male       Denmark  Sognsvann         90   \n",
       "74     Sophie      Brown   33  Female            UK  Sognsvann         96   \n",
       "75       Leon      Bauer   35    Male       Germany  Sognsvann         90   \n",
       "76   Mohammed      Salim   31    Male        Somali  Sognsvann         35   \n",
       "\n",
       "   prevEducation  studyHOURS  Python  DB  \n",
       "0        Masters         158    59.0  55  \n",
       "1        Diploma         150    60.0  75  \n",
       "2    High School         130    74.0  50  \n",
       "3    High School         120     NaN  44  \n",
       "4    High School         122    91.0  80  \n",
       "..           ...         ...     ...  ..  \n",
       "72     Bachelors         150    75.0  43  \n",
       "73       Masters         158    84.0  83  \n",
       "74       Masters         158    85.0  90  \n",
       "75       Masters         160    87.0  74  \n",
       "76       Masters         144    72.0  90  \n",
       "\n",
       "[77 rows x 11 columns]"
      ]
     },
     "execution_count": 16,
     "metadata": {},
     "output_type": "execute_result"
    }
   ],
   "source": [
    "df_data"
   ]
  },
  {
   "cell_type": "markdown",
   "id": "904d72f1-a7dd-4cc1-8557-6200b0d37c29",
   "metadata": {},
   "source": [
    "Removing Duplicates"
   ]
  },
  {
   "cell_type": "code",
   "execution_count": 17,
   "id": "2625e85f-482e-4d07-b6a1-bc5fa201dd16",
   "metadata": {},
   "outputs": [
    {
     "data": {
      "text/plain": [
       "np.int64(0)"
      ]
     },
     "execution_count": 17,
     "metadata": {},
     "output_type": "execute_result"
    }
   ],
   "source": [
    "df_data.duplicated().sum()\n"
   ]
  },
  {
   "cell_type": "markdown",
   "id": "856c7724-a5f9-4f74-8120-bb5c8a230f68",
   "metadata": {},
   "source": [
    "Replacing Missing Values with mean"
   ]
  },
  {
   "cell_type": "code",
   "execution_count": 18,
   "id": "3d1570e2-21f3-46ce-b851-9d5967a2c9da",
   "metadata": {},
   "outputs": [
    {
     "data": {
      "text/plain": [
       "fNAME            0\n",
       "lNAME            0\n",
       "Age              0\n",
       "gender           0\n",
       "country          0\n",
       "residence        0\n",
       "entryEXAM        0\n",
       "prevEducation    0\n",
       "studyHOURS       0\n",
       "Python           2\n",
       "DB               0\n",
       "dtype: int64"
      ]
     },
     "execution_count": 18,
     "metadata": {},
     "output_type": "execute_result"
    }
   ],
   "source": [
    "df_data.isnull().sum()"
   ]
  },
  {
   "cell_type": "markdown",
   "id": "1749766e-4501-4a3e-8b19-df88bdc57b60",
   "metadata": {},
   "source": [
    "Column Python have the most missing data = 2"
   ]
  },
  {
   "cell_type": "code",
   "execution_count": 19,
   "id": "d1e3df7d-9ac2-4958-84b5-45bab2544fa2",
   "metadata": {},
   "outputs": [],
   "source": [
    "df_data['Python'] = df_data['Python'].fillna(df_data['Python'].mean())"
   ]
  },
  {
   "cell_type": "code",
   "execution_count": 20,
   "id": "a9e7c3e6-b0c5-4434-9ca7-d0b012e585fc",
   "metadata": {},
   "outputs": [
    {
     "data": {
      "text/html": [
       "<div>\n",
       "<style scoped>\n",
       "    .dataframe tbody tr th:only-of-type {\n",
       "        vertical-align: middle;\n",
       "    }\n",
       "\n",
       "    .dataframe tbody tr th {\n",
       "        vertical-align: top;\n",
       "    }\n",
       "\n",
       "    .dataframe thead th {\n",
       "        text-align: right;\n",
       "    }\n",
       "</style>\n",
       "<table border=\"1\" class=\"dataframe\">\n",
       "  <thead>\n",
       "    <tr style=\"text-align: right;\">\n",
       "      <th></th>\n",
       "      <th>fNAME</th>\n",
       "      <th>lNAME</th>\n",
       "      <th>Age</th>\n",
       "      <th>gender</th>\n",
       "      <th>country</th>\n",
       "      <th>residence</th>\n",
       "      <th>entryEXAM</th>\n",
       "      <th>prevEducation</th>\n",
       "      <th>studyHOURS</th>\n",
       "      <th>Python</th>\n",
       "      <th>DB</th>\n",
       "    </tr>\n",
       "  </thead>\n",
       "  <tbody>\n",
       "    <tr>\n",
       "      <th>0</th>\n",
       "      <td>Christina</td>\n",
       "      <td>Binger</td>\n",
       "      <td>44</td>\n",
       "      <td>Female</td>\n",
       "      <td>Norway</td>\n",
       "      <td>Private</td>\n",
       "      <td>72</td>\n",
       "      <td>Masters</td>\n",
       "      <td>158</td>\n",
       "      <td>59.000000</td>\n",
       "      <td>55</td>\n",
       "    </tr>\n",
       "    <tr>\n",
       "      <th>1</th>\n",
       "      <td>Alex</td>\n",
       "      <td>Walekhwa</td>\n",
       "      <td>60</td>\n",
       "      <td>Male</td>\n",
       "      <td>Kenya</td>\n",
       "      <td>Private</td>\n",
       "      <td>79</td>\n",
       "      <td>Diploma</td>\n",
       "      <td>150</td>\n",
       "      <td>60.000000</td>\n",
       "      <td>75</td>\n",
       "    </tr>\n",
       "    <tr>\n",
       "      <th>2</th>\n",
       "      <td>Philip</td>\n",
       "      <td>Leo</td>\n",
       "      <td>25</td>\n",
       "      <td>Male</td>\n",
       "      <td>Uganda</td>\n",
       "      <td>Sognsvann</td>\n",
       "      <td>55</td>\n",
       "      <td>High School</td>\n",
       "      <td>130</td>\n",
       "      <td>74.000000</td>\n",
       "      <td>50</td>\n",
       "    </tr>\n",
       "    <tr>\n",
       "      <th>3</th>\n",
       "      <td>Shoni</td>\n",
       "      <td>Hlongwane</td>\n",
       "      <td>22</td>\n",
       "      <td>Female</td>\n",
       "      <td>Rsa</td>\n",
       "      <td>Sognsvann</td>\n",
       "      <td>40</td>\n",
       "      <td>High School</td>\n",
       "      <td>120</td>\n",
       "      <td>75.853333</td>\n",
       "      <td>44</td>\n",
       "    </tr>\n",
       "    <tr>\n",
       "      <th>4</th>\n",
       "      <td>Maria</td>\n",
       "      <td>Kedibone</td>\n",
       "      <td>23</td>\n",
       "      <td>Female</td>\n",
       "      <td>South Africa</td>\n",
       "      <td>Sognsvann</td>\n",
       "      <td>65</td>\n",
       "      <td>High School</td>\n",
       "      <td>122</td>\n",
       "      <td>91.000000</td>\n",
       "      <td>80</td>\n",
       "    </tr>\n",
       "    <tr>\n",
       "      <th>...</th>\n",
       "      <td>...</td>\n",
       "      <td>...</td>\n",
       "      <td>...</td>\n",
       "      <td>...</td>\n",
       "      <td>...</td>\n",
       "      <td>...</td>\n",
       "      <td>...</td>\n",
       "      <td>...</td>\n",
       "      <td>...</td>\n",
       "      <td>...</td>\n",
       "      <td>...</td>\n",
       "    </tr>\n",
       "    <tr>\n",
       "      <th>72</th>\n",
       "      <td>Clara</td>\n",
       "      <td>Bernard</td>\n",
       "      <td>43</td>\n",
       "      <td>Female</td>\n",
       "      <td>France</td>\n",
       "      <td>Private</td>\n",
       "      <td>80</td>\n",
       "      <td>Bachelors</td>\n",
       "      <td>150</td>\n",
       "      <td>75.000000</td>\n",
       "      <td>43</td>\n",
       "    </tr>\n",
       "    <tr>\n",
       "      <th>73</th>\n",
       "      <td>Julian</td>\n",
       "      <td>Nielsen</td>\n",
       "      <td>31</td>\n",
       "      <td>Male</td>\n",
       "      <td>Denmark</td>\n",
       "      <td>Sognsvann</td>\n",
       "      <td>90</td>\n",
       "      <td>Masters</td>\n",
       "      <td>158</td>\n",
       "      <td>84.000000</td>\n",
       "      <td>83</td>\n",
       "    </tr>\n",
       "    <tr>\n",
       "      <th>74</th>\n",
       "      <td>Sophie</td>\n",
       "      <td>Brown</td>\n",
       "      <td>33</td>\n",
       "      <td>Female</td>\n",
       "      <td>UK</td>\n",
       "      <td>Sognsvann</td>\n",
       "      <td>96</td>\n",
       "      <td>Masters</td>\n",
       "      <td>158</td>\n",
       "      <td>85.000000</td>\n",
       "      <td>90</td>\n",
       "    </tr>\n",
       "    <tr>\n",
       "      <th>75</th>\n",
       "      <td>Leon</td>\n",
       "      <td>Bauer</td>\n",
       "      <td>35</td>\n",
       "      <td>Male</td>\n",
       "      <td>Germany</td>\n",
       "      <td>Sognsvann</td>\n",
       "      <td>90</td>\n",
       "      <td>Masters</td>\n",
       "      <td>160</td>\n",
       "      <td>87.000000</td>\n",
       "      <td>74</td>\n",
       "    </tr>\n",
       "    <tr>\n",
       "      <th>76</th>\n",
       "      <td>Mohammed</td>\n",
       "      <td>Salim</td>\n",
       "      <td>31</td>\n",
       "      <td>Male</td>\n",
       "      <td>Somali</td>\n",
       "      <td>Sognsvann</td>\n",
       "      <td>35</td>\n",
       "      <td>Masters</td>\n",
       "      <td>144</td>\n",
       "      <td>72.000000</td>\n",
       "      <td>90</td>\n",
       "    </tr>\n",
       "  </tbody>\n",
       "</table>\n",
       "<p>77 rows × 11 columns</p>\n",
       "</div>"
      ],
      "text/plain": [
       "        fNAME      lNAME  Age  gender       country  residence  entryEXAM  \\\n",
       "0   Christina     Binger   44  Female        Norway    Private         72   \n",
       "1        Alex   Walekhwa   60    Male         Kenya    Private         79   \n",
       "2      Philip        Leo   25    Male        Uganda  Sognsvann         55   \n",
       "3       Shoni  Hlongwane   22  Female           Rsa  Sognsvann         40   \n",
       "4       Maria   Kedibone   23  Female  South Africa  Sognsvann         65   \n",
       "..        ...        ...  ...     ...           ...        ...        ...   \n",
       "72      Clara    Bernard   43  Female        France    Private         80   \n",
       "73     Julian    Nielsen   31    Male       Denmark  Sognsvann         90   \n",
       "74     Sophie      Brown   33  Female            UK  Sognsvann         96   \n",
       "75       Leon      Bauer   35    Male       Germany  Sognsvann         90   \n",
       "76   Mohammed      Salim   31    Male        Somali  Sognsvann         35   \n",
       "\n",
       "   prevEducation  studyHOURS     Python  DB  \n",
       "0        Masters         158  59.000000  55  \n",
       "1        Diploma         150  60.000000  75  \n",
       "2    High School         130  74.000000  50  \n",
       "3    High School         120  75.853333  44  \n",
       "4    High School         122  91.000000  80  \n",
       "..           ...         ...        ...  ..  \n",
       "72     Bachelors         150  75.000000  43  \n",
       "73       Masters         158  84.000000  83  \n",
       "74       Masters         158  85.000000  90  \n",
       "75       Masters         160  87.000000  74  \n",
       "76       Masters         144  72.000000  90  \n",
       "\n",
       "[77 rows x 11 columns]"
      ]
     },
     "execution_count": 20,
     "metadata": {},
     "output_type": "execute_result"
    }
   ],
   "source": [
    "df_data\n"
   ]
  },
  {
   "cell_type": "markdown",
   "id": "60bc7614-9f29-4244-96b6-09600c16fba0",
   "metadata": {},
   "source": [
    "There is only missing data in python column and replaced by mean"
   ]
  },
  {
   "cell_type": "markdown",
   "id": "bee67c23-313c-4b5e-8e38-e93f1f435dd5",
   "metadata": {},
   "source": [
    "Detecting Outliers and dropping them"
   ]
  },
  {
   "cell_type": "code",
   "execution_count": 21,
   "id": "41766476-93e1-4452-8423-c1dc2839937b",
   "metadata": {},
   "outputs": [
    {
     "data": {
      "image/png": "[encoded data removed]",
      "text/plain": [
       "<Figure size 640x480 with 1 Axes>"
      ]
     },
     "metadata": {},
     "output_type": "display_data"
    }
   ],
   "source": [
    "import numpy as np\n",
    "import seaborn as sns\n",
    "import matplotlib.pyplot as plt\n",
    "sns.boxplot(x = 'Python' , data = df_data)\n",
    "plt.show()"
   ]
  },
  {
   "cell_type": "code",
   "execution_count": 22,
   "id": "3aef2172-6863-4d4f-857a-6428cdb4aec5",
   "metadata": {},
   "outputs": [
    {
     "data": {
      "text/plain": [
       "count    77.000000\n",
       "mean     75.853333\n",
       "std      15.206208\n",
       "min      15.000000\n",
       "25%      72.000000\n",
       "50%      81.000000\n",
       "75%      85.000000\n",
       "max      91.000000\n",
       "Name: Python, dtype: float64"
      ]
     },
     "execution_count": 22,
     "metadata": {},
     "output_type": "execute_result"
    }
   ],
   "source": [
    "df_data['Python'].describe()"
   ]
  },
  {
   "cell_type": "markdown",
   "id": "5ca9c508-5772-4348-a7d6-0bddb881b0d0",
   "metadata": {},
   "source": [
    "IQR = 85-72 = 13\n",
    "Minimum = 72 - 1.5x13 = 52.5\n",
    "Maximum = 85 + 1.5x13 = 104.5"
   ]
  },
  {
   "cell_type": "code",
   "execution_count": 23,
   "id": "7f5f179d-9d23-4010-9b13-866e9d6c2455",
   "metadata": {},
   "outputs": [
    {
     "name": "stdout",
     "output_type": "stream",
     "text": [
      "Requirement already satisfied: datasist in f:\\anaconda\\lib\\site-packages (1.5.3)Note: you may need to restart the kernel to use updated packages.\n",
      "\n",
      "Requirement already satisfied: pandas in f:\\anaconda\\lib\\site-packages (from datasist) (2.2.3)\n",
      "Requirement already satisfied: matplotlib in f:\\anaconda\\lib\\site-packages (from datasist) (3.10.0)\n",
      "Requirement already satisfied: seaborn in f:\\anaconda\\lib\\site-packages (from datasist) (0.13.2)\n",
      "Requirement already satisfied: numpy in f:\\anaconda\\lib\\site-packages (from datasist) (2.1.3)\n",
      "Requirement already satisfied: jupyter in f:\\anaconda\\lib\\site-packages (from datasist) (1.1.1)\n",
      "Requirement already satisfied: scikit-learn in f:\\anaconda\\lib\\site-packages (from datasist) (1.6.1)\n",
      "Requirement already satisfied: nltk in f:\\anaconda\\lib\\site-packages (from datasist) (3.9.1)\n",
      "Requirement already satisfied: Joblib in f:\\anaconda\\lib\\site-packages (from datasist) (1.4.2)\n",
      "Requirement already satisfied: notebook in f:\\anaconda\\lib\\site-packages (from jupyter->datasist) (7.3.2)\n",
      "Requirement already satisfied: jupyter-console in f:\\anaconda\\lib\\site-packages (from jupyter->datasist) (6.6.3)\n",
      "Requirement already satisfied: nbconvert in f:\\anaconda\\lib\\site-packages (from jupyter->datasist) (7.16.6)\n",
      "Requirement already satisfied: ipykernel in f:\\anaconda\\lib\\site-packages (from jupyter->datasist) (6.29.5)\n",
      "Requirement already satisfied: ipywidgets in f:\\anaconda\\lib\\site-packages (from jupyter->datasist) (8.1.5)\n",
      "Requirement already satisfied: jupyterlab in f:\\anaconda\\lib\\site-packages (from jupyter->datasist) (4.3.4)\n",
      "Requirement already satisfied: comm>=0.1.1 in f:\\anaconda\\lib\\site-packages (from ipykernel->jupyter->datasist) (0.2.1)\n",
      "Requirement already satisfied: debugpy>=1.6.5 in f:\\anaconda\\lib\\site-packages (from ipykernel->jupyter->datasist) (1.8.11)\n",
      "Requirement already satisfied: ipython>=7.23.1 in f:\\anaconda\\lib\\site-packages (from ipykernel->jupyter->datasist) (8.30.0)\n",
      "Requirement already satisfied: jupyter-client>=6.1.12 in f:\\anaconda\\lib\\site-packages (from ipykernel->jupyter->datasist) (8.6.3)\n",
      "Requirement already satisfied: jupyter-core!=5.0.*,>=4.12 in f:\\anaconda\\lib\\site-packages (from ipykernel->jupyter->datasist) (5.7.2)\n",
      "Requirement already satisfied: matplotlib-inline>=0.1 in f:\\anaconda\\lib\\site-packages (from ipykernel->jupyter->datasist) (0.1.6)\n",
      "Requirement already satisfied: nest-asyncio in f:\\anaconda\\lib\\site-packages (from ipykernel->jupyter->datasist) (1.6.0)\n",
      "Requirement already satisfied: packaging in f:\\anaconda\\lib\\site-packages (from ipykernel->jupyter->datasist) (24.2)\n",
      "Requirement already satisfied: psutil in f:\\anaconda\\lib\\site-packages (from ipykernel->jupyter->datasist) (5.9.0)\n",
      "Requirement already satisfied: pyzmq>=24 in f:\\anaconda\\lib\\site-packages (from ipykernel->jupyter->datasist) (26.2.0)\n",
      "Requirement already satisfied: tornado>=6.1 in f:\\anaconda\\lib\\site-packages (from ipykernel->jupyter->datasist) (6.5.1)\n",
      "Requirement already satisfied: traitlets>=5.4.0 in f:\\anaconda\\lib\\site-packages (from ipykernel->jupyter->datasist) (5.14.3)\n",
      "Requirement already satisfied: decorator in f:\\anaconda\\lib\\site-packages (from ipython>=7.23.1->ipykernel->jupyter->datasist) (5.1.1)\n",
      "Requirement already satisfied: jedi>=0.16 in f:\\anaconda\\lib\\site-packages (from ipython>=7.23.1->ipykernel->jupyter->datasist) (0.19.2)\n",
      "Requirement already satisfied: prompt-toolkit<3.1.0,>=3.0.41 in f:\\anaconda\\lib\\site-packages (from ipython>=7.23.1->ipykernel->jupyter->datasist) (3.0.43)\n",
      "Requirement already satisfied: pygments>=2.4.0 in f:\\anaconda\\lib\\site-packages (from ipython>=7.23.1->ipykernel->jupyter->datasist) (2.19.1)\n",
      "Requirement already satisfied: stack-data in f:\\anaconda\\lib\\site-packages (from ipython>=7.23.1->ipykernel->jupyter->datasist) (0.2.0)\n",
      "Requirement already satisfied: colorama in f:\\anaconda\\lib\\site-packages (from ipython>=7.23.1->ipykernel->jupyter->datasist) (0.4.6)\n",
      "Requirement already satisfied: wcwidth in f:\\anaconda\\lib\\site-packages (from prompt-toolkit<3.1.0,>=3.0.41->ipython>=7.23.1->ipykernel->jupyter->datasist) (0.2.5)\n",
      "Requirement already satisfied: parso<0.9.0,>=0.8.4 in f:\\anaconda\\lib\\site-packages (from jedi>=0.16->ipython>=7.23.1->ipykernel->jupyter->datasist) (0.8.4)\n",
      "Requirement already satisfied: python-dateutil>=2.8.2 in f:\\anaconda\\lib\\site-packages (from jupyter-client>=6.1.12->ipykernel->jupyter->datasist) (2.9.0.post0)\n",
      "Requirement already satisfied: platformdirs>=2.5 in f:\\anaconda\\lib\\site-packages (from jupyter-core!=5.0.*,>=4.12->ipykernel->jupyter->datasist) (4.3.7)\n",
      "Requirement already satisfied: pywin32>=300 in f:\\anaconda\\lib\\site-packages (from jupyter-core!=5.0.*,>=4.12->ipykernel->jupyter->datasist) (308)\n",
      "Requirement already satisfied: six>=1.5 in f:\\anaconda\\lib\\site-packages (from python-dateutil>=2.8.2->jupyter-client>=6.1.12->ipykernel->jupyter->datasist) (1.17.0)\n",
      "Requirement already satisfied: widgetsnbextension~=4.0.12 in f:\\anaconda\\lib\\site-packages (from ipywidgets->jupyter->datasist) (4.0.13)\n",
      "Requirement already satisfied: jupyterlab_widgets~=3.0.12 in f:\\anaconda\\lib\\site-packages (from ipywidgets->jupyter->datasist) (3.0.13)\n",
      "Requirement already satisfied: async-lru>=1.0.0 in f:\\anaconda\\lib\\site-packages (from jupyterlab->jupyter->datasist) (2.0.4)\n",
      "Requirement already satisfied: httpx>=0.25.0 in f:\\anaconda\\lib\\site-packages (from jupyterlab->jupyter->datasist) (0.28.1)\n",
      "Requirement already satisfied: jinja2>=3.0.3 in f:\\anaconda\\lib\\site-packages (from jupyterlab->jupyter->datasist) (3.1.6)\n",
      "Requirement already satisfied: jupyter-lsp>=2.0.0 in f:\\anaconda\\lib\\site-packages (from jupyterlab->jupyter->datasist) (2.2.5)\n",
      "Requirement already satisfied: jupyter-server<3,>=2.4.0 in f:\\anaconda\\lib\\site-packages (from jupyterlab->jupyter->datasist) (2.15.0)\n",
      "Requirement already satisfied: jupyterlab-server<3,>=2.27.1 in f:\\anaconda\\lib\\site-packages (from jupyterlab->jupyter->datasist) (2.27.3)\n",
      "Requirement already satisfied: notebook-shim>=0.2 in f:\\anaconda\\lib\\site-packages (from jupyterlab->jupyter->datasist) (0.2.4)\n",
      "Requirement already satisfied: setuptools>=40.8.0 in f:\\anaconda\\lib\\site-packages (from jupyterlab->jupyter->datasist) (72.1.0)\n",
      "Requirement already satisfied: anyio>=3.1.0 in f:\\anaconda\\lib\\site-packages (from jupyter-server<3,>=2.4.0->jupyterlab->jupyter->datasist) (4.7.0)\n",
      "Requirement already satisfied: argon2-cffi>=21.1 in f:\\anaconda\\lib\\site-packages (from jupyter-server<3,>=2.4.0->jupyterlab->jupyter->datasist) (21.3.0)\n",
      "Requirement already satisfied: jupyter-events>=0.11.0 in f:\\anaconda\\lib\\site-packages (from jupyter-server<3,>=2.4.0->jupyterlab->jupyter->datasist) (0.12.0)\n",
      "Requirement already satisfied: jupyter-server-terminals>=0.4.4 in f:\\anaconda\\lib\\site-packages (from jupyter-server<3,>=2.4.0->jupyterlab->jupyter->datasist) (0.5.3)\n",
      "Requirement already satisfied: nbformat>=5.3.0 in f:\\anaconda\\lib\\site-packages (from jupyter-server<3,>=2.4.0->jupyterlab->jupyter->datasist) (5.10.4)\n",
      "Requirement already satisfied: overrides>=5.0 in f:\\anaconda\\lib\\site-packages (from jupyter-server<3,>=2.4.0->jupyterlab->jupyter->datasist) (7.4.0)\n",
      "Requirement already satisfied: prometheus-client>=0.9 in f:\\anaconda\\lib\\site-packages (from jupyter-server<3,>=2.4.0->jupyterlab->jupyter->datasist) (0.21.1)\n",
      "Requirement already satisfied: pywinpty>=2.0.1 in f:\\anaconda\\lib\\site-packages (from jupyter-server<3,>=2.4.0->jupyterlab->jupyter->datasist) (2.0.15)\n",
      "Requirement already satisfied: send2trash>=1.8.2 in f:\\anaconda\\lib\\site-packages (from jupyter-server<3,>=2.4.0->jupyterlab->jupyter->datasist) (1.8.2)\n",
      "Requirement already satisfied: terminado>=0.8.3 in f:\\anaconda\\lib\\site-packages (from jupyter-server<3,>=2.4.0->jupyterlab->jupyter->datasist) (0.17.1)\n",
      "Requirement already satisfied: websocket-client>=1.7 in f:\\anaconda\\lib\\site-packages (from jupyter-server<3,>=2.4.0->jupyterlab->jupyter->datasist) (1.8.0)\n",
      "Requirement already satisfied: babel>=2.10 in f:\\anaconda\\lib\\site-packages (from jupyterlab-server<3,>=2.27.1->jupyterlab->jupyter->datasist) (2.16.0)\n",
      "Requirement already satisfied: json5>=0.9.0 in f:\\anaconda\\lib\\site-packages (from jupyterlab-server<3,>=2.27.1->jupyterlab->jupyter->datasist) (0.9.25)\n",
      "Requirement already satisfied: jsonschema>=4.18.0 in f:\\anaconda\\lib\\site-packages (from jupyterlab-server<3,>=2.27.1->jupyterlab->jupyter->datasist) (4.23.0)\n",
      "Requirement already satisfied: requests>=2.31 in f:\\anaconda\\lib\\site-packages (from jupyterlab-server<3,>=2.27.1->jupyterlab->jupyter->datasist) (2.32.3)\n",
      "Requirement already satisfied: idna>=2.8 in f:\\anaconda\\lib\\site-packages (from anyio>=3.1.0->jupyter-server<3,>=2.4.0->jupyterlab->jupyter->datasist) (3.7)\n",
      "Requirement already satisfied: sniffio>=1.1 in f:\\anaconda\\lib\\site-packages (from anyio>=3.1.0->jupyter-server<3,>=2.4.0->jupyterlab->jupyter->datasist) (1.3.0)\n",
      "Requirement already satisfied: argon2-cffi-bindings in f:\\anaconda\\lib\\site-packages (from argon2-cffi>=21.1->jupyter-server<3,>=2.4.0->jupyterlab->jupyter->datasist) (21.2.0)\n",
      "Requirement already satisfied: certifi in f:\\anaconda\\lib\\site-packages (from httpx>=0.25.0->jupyterlab->jupyter->datasist) (2025.4.26)\n",
      "Requirement already satisfied: httpcore==1.* in f:\\anaconda\\lib\\site-packages (from httpx>=0.25.0->jupyterlab->jupyter->datasist) (1.0.9)\n",
      "Requirement already satisfied: h11>=0.16 in f:\\anaconda\\lib\\site-packages (from httpcore==1.*->httpx>=0.25.0->jupyterlab->jupyter->datasist) (0.16.0)\n",
      "Requirement already satisfied: MarkupSafe>=2.0 in f:\\anaconda\\lib\\site-packages (from jinja2>=3.0.3->jupyterlab->jupyter->datasist) (3.0.2)\n",
      "Requirement already satisfied: attrs>=22.2.0 in f:\\anaconda\\lib\\site-packages (from jsonschema>=4.18.0->jupyterlab-server<3,>=2.27.1->jupyterlab->jupyter->datasist) (24.3.0)\n",
      "Requirement already satisfied: jsonschema-specifications>=2023.03.6 in f:\\anaconda\\lib\\site-packages (from jsonschema>=4.18.0->jupyterlab-server<3,>=2.27.1->jupyterlab->jupyter->datasist) (2023.7.1)\n",
      "Requirement already satisfied: referencing>=0.28.4 in f:\\anaconda\\lib\\site-packages (from jsonschema>=4.18.0->jupyterlab-server<3,>=2.27.1->jupyterlab->jupyter->datasist) (0.30.2)\n",
      "Requirement already satisfied: rpds-py>=0.7.1 in f:\\anaconda\\lib\\site-packages (from jsonschema>=4.18.0->jupyterlab-server<3,>=2.27.1->jupyterlab->jupyter->datasist) (0.22.3)\n",
      "Requirement already satisfied: python-json-logger>=2.0.4 in f:\\anaconda\\lib\\site-packages (from jupyter-events>=0.11.0->jupyter-server<3,>=2.4.0->jupyterlab->jupyter->datasist) (3.2.1)\n",
      "Requirement already satisfied: pyyaml>=5.3 in f:\\anaconda\\lib\\site-packages (from jupyter-events>=0.11.0->jupyter-server<3,>=2.4.0->jupyterlab->jupyter->datasist) (6.0.2)\n",
      "Requirement already satisfied: rfc3339-validator in f:\\anaconda\\lib\\site-packages (from jupyter-events>=0.11.0->jupyter-server<3,>=2.4.0->jupyterlab->jupyter->datasist) (0.1.4)\n",
      "Requirement already satisfied: rfc3986-validator>=0.1.1 in f:\\anaconda\\lib\\site-packages (from jupyter-events>=0.11.0->jupyter-server<3,>=2.4.0->jupyterlab->jupyter->datasist) (0.1.1)\n",
      "Requirement already satisfied: fqdn in f:\\anaconda\\lib\\site-packages (from jsonschema[format-nongpl]>=4.18.0->jupyter-events>=0.11.0->jupyter-server<3,>=2.4.0->jupyterlab->jupyter->datasist) (1.5.1)\n",
      "Requirement already satisfied: isoduration in f:\\anaconda\\lib\\site-packages (from jsonschema[format-nongpl]>=4.18.0->jupyter-events>=0.11.0->jupyter-server<3,>=2.4.0->jupyterlab->jupyter->datasist) (20.11.0)\n",
      "Requirement already satisfied: jsonpointer>1.13 in f:\\anaconda\\lib\\site-packages (from jsonschema[format-nongpl]>=4.18.0->jupyter-events>=0.11.0->jupyter-server<3,>=2.4.0->jupyterlab->jupyter->datasist) (2.1)\n",
      "Requirement already satisfied: uri-template in f:\\anaconda\\lib\\site-packages (from jsonschema[format-nongpl]>=4.18.0->jupyter-events>=0.11.0->jupyter-server<3,>=2.4.0->jupyterlab->jupyter->datasist) (1.3.0)\n",
      "Requirement already satisfied: webcolors>=24.6.0 in f:\\anaconda\\lib\\site-packages (from jsonschema[format-nongpl]>=4.18.0->jupyter-events>=0.11.0->jupyter-server<3,>=2.4.0->jupyterlab->jupyter->datasist) (24.11.1)\n",
      "Requirement already satisfied: beautifulsoup4 in f:\\anaconda\\lib\\site-packages (from nbconvert->jupyter->datasist) (4.12.3)\n",
      "Requirement already satisfied: bleach!=5.0.0 in f:\\anaconda\\lib\\site-packages (from bleach[css]!=5.0.0->nbconvert->jupyter->datasist) (6.2.0)\n",
      "Requirement already satisfied: defusedxml in f:\\anaconda\\lib\\site-packages (from nbconvert->jupyter->datasist) (0.7.1)\n",
      "Requirement already satisfied: jupyterlab-pygments in f:\\anaconda\\lib\\site-packages (from nbconvert->jupyter->datasist) (0.3.0)\n",
      "Requirement already satisfied: mistune<4,>=2.0.3 in f:\\anaconda\\lib\\site-packages (from nbconvert->jupyter->datasist) (3.1.2)\n",
      "Requirement already satisfied: nbclient>=0.5.0 in f:\\anaconda\\lib\\site-packages (from nbconvert->jupyter->datasist) (0.10.2)\n",
      "Requirement already satisfied: pandocfilters>=1.4.1 in f:\\anaconda\\lib\\site-packages (from nbconvert->jupyter->datasist) (1.5.0)\n",
      "Requirement already satisfied: webencodings in f:\\anaconda\\lib\\site-packages (from bleach!=5.0.0->bleach[css]!=5.0.0->nbconvert->jupyter->datasist) (0.5.1)\n",
      "Requirement already satisfied: tinycss2<1.5,>=1.1.0 in f:\\anaconda\\lib\\site-packages (from bleach[css]!=5.0.0->nbconvert->jupyter->datasist) (1.4.0)\n",
      "Requirement already satisfied: fastjsonschema>=2.15 in f:\\anaconda\\lib\\site-packages (from nbformat>=5.3.0->jupyter-server<3,>=2.4.0->jupyterlab->jupyter->datasist) (2.20.0)\n",
      "Requirement already satisfied: charset-normalizer<4,>=2 in f:\\anaconda\\lib\\site-packages (from requests>=2.31->jupyterlab-server<3,>=2.27.1->jupyterlab->jupyter->datasist) (3.3.2)\n",
      "Requirement already satisfied: urllib3<3,>=1.21.1 in f:\\anaconda\\lib\\site-packages (from requests>=2.31->jupyterlab-server<3,>=2.27.1->jupyterlab->jupyter->datasist) (2.3.0)\n",
      "Requirement already satisfied: cffi>=1.0.1 in f:\\anaconda\\lib\\site-packages (from argon2-cffi-bindings->argon2-cffi>=21.1->jupyter-server<3,>=2.4.0->jupyterlab->jupyter->datasist) (1.17.1)\n",
      "Requirement already satisfied: pycparser in f:\\anaconda\\lib\\site-packages (from cffi>=1.0.1->argon2-cffi-bindings->argon2-cffi>=21.1->jupyter-server<3,>=2.4.0->jupyterlab->jupyter->datasist) (2.21)\n",
      "Requirement already satisfied: soupsieve>1.2 in f:\\anaconda\\lib\\site-packages (from beautifulsoup4->nbconvert->jupyter->datasist) (2.5)\n",
      "Requirement already satisfied: arrow>=0.15.0 in f:\\anaconda\\lib\\site-packages (from isoduration->jsonschema[format-nongpl]>=4.18.0->jupyter-events>=0.11.0->jupyter-server<3,>=2.4.0->jupyterlab->jupyter->datasist) (1.3.0)\n",
      "Requirement already satisfied: contourpy>=1.0.1 in f:\\anaconda\\lib\\site-packages (from matplotlib->datasist) (1.3.1)\n",
      "Requirement already satisfied: cycler>=0.10 in f:\\anaconda\\lib\\site-packages (from matplotlib->datasist) (0.11.0)\n",
      "Requirement already satisfied: fonttools>=4.22.0 in f:\\anaconda\\lib\\site-packages (from matplotlib->datasist) (4.55.3)\n",
      "Requirement already satisfied: kiwisolver>=1.3.1 in f:\\anaconda\\lib\\site-packages (from matplotlib->datasist) (1.4.8)\n",
      "Requirement already satisfied: pillow>=8 in f:\\anaconda\\lib\\site-packages (from matplotlib->datasist) (11.1.0)\n",
      "Requirement already satisfied: pyparsing>=2.3.1 in f:\\anaconda\\lib\\site-packages (from matplotlib->datasist) (3.2.0)\n",
      "Requirement already satisfied: click in f:\\anaconda\\lib\\site-packages (from nltk->datasist) (8.1.8)\n",
      "Requirement already satisfied: regex>=2021.8.3 in f:\\anaconda\\lib\\site-packages (from nltk->datasist) (2024.11.6)\n",
      "Requirement already satisfied: tqdm in f:\\anaconda\\lib\\site-packages (from nltk->datasist) (4.67.1)\n",
      "Requirement already satisfied: pytz>=2020.1 in f:\\anaconda\\lib\\site-packages (from pandas->datasist) (2024.1)\n",
      "Requirement already satisfied: tzdata>=2022.7 in f:\\anaconda\\lib\\site-packages (from pandas->datasist) (2025.2)\n",
      "Requirement already satisfied: scipy>=1.6.0 in f:\\anaconda\\lib\\site-packages (from scikit-learn->datasist) (1.15.3)\n",
      "Requirement already satisfied: threadpoolctl>=3.1.0 in f:\\anaconda\\lib\\site-packages (from scikit-learn->datasist) (3.5.0)\n",
      "Requirement already satisfied: executing in f:\\anaconda\\lib\\site-packages (from stack-data->ipython>=7.23.1->ipykernel->jupyter->datasist) (0.8.3)\n",
      "Requirement already satisfied: asttokens in f:\\anaconda\\lib\\site-packages (from stack-data->ipython>=7.23.1->ipykernel->jupyter->datasist) (3.0.0)\n",
      "Requirement already satisfied: pure-eval in f:\\anaconda\\lib\\site-packages (from stack-data->ipython>=7.23.1->ipykernel->jupyter->datasist) (0.2.2)\n"
     ]
    }
   ],
   "source": [
    "pip install datasist"
   ]
  },
  {
   "cell_type": "code",
   "execution_count": 24,
   "id": "e3b93c64-6f7a-4278-bc37-826d670a908f",
   "metadata": {},
   "outputs": [],
   "source": [
    "from datasist.structdata import detect_outliers"
   ]
  },
  {
   "cell_type": "code",
   "execution_count": 25,
   "id": "d630eb72-8333-48da-9dac-ec1bec3c46bc",
   "metadata": {},
   "outputs": [
    {
     "data": {
      "text/plain": [
       "6"
      ]
     },
     "execution_count": 25,
     "metadata": {},
     "output_type": "execute_result"
    }
   ],
   "source": [
    "outliers_indices_python = detect_outliers(df_data, 0,['Python'])\n",
    "len(outliers_indices_python)"
   ]
  },
  {
   "cell_type": "code",
   "execution_count": 26,
   "id": "6be29f92-a0eb-4ffc-8b24-4217fe65693f",
   "metadata": {},
   "outputs": [
    {
     "data": {
      "text/plain": [
       "7"
      ]
     },
     "execution_count": 26,
     "metadata": {},
     "output_type": "execute_result"
    }
   ],
   "source": [
    "outliers_indices_studyHOURS = detect_outliers(df_data, 0,['studyHOURS'])\n",
    "len(outliers_indices_studyHOURS)"
   ]
  },
  {
   "cell_type": "code",
   "execution_count": 27,
   "id": "f8de0299-3cff-486c-bab2-bae38c1e962e",
   "metadata": {},
   "outputs": [
    {
     "data": {
      "text/plain": [
       "0"
      ]
     },
     "execution_count": 27,
     "metadata": {},
     "output_type": "execute_result"
    }
   ],
   "source": [
    "outliers_indices_DB = detect_outliers(df_data, 0,['DB'])\n",
    "len(outliers_indices_DB)"
   ]
  },
  {
   "cell_type": "code",
   "execution_count": 28,
   "id": "b9562340-bc6c-48c3-afab-d30294546594",
   "metadata": {},
   "outputs": [
    {
     "data": {
      "text/html": [
       "<div>\n",
       "<style scoped>\n",
       "    .dataframe tbody tr th:only-of-type {\n",
       "        vertical-align: middle;\n",
       "    }\n",
       "\n",
       "    .dataframe tbody tr th {\n",
       "        vertical-align: top;\n",
       "    }\n",
       "\n",
       "    .dataframe thead th {\n",
       "        text-align: right;\n",
       "    }\n",
       "</style>\n",
       "<table border=\"1\" class=\"dataframe\">\n",
       "  <thead>\n",
       "    <tr style=\"text-align: right;\">\n",
       "      <th></th>\n",
       "      <th>fNAME</th>\n",
       "      <th>lNAME</th>\n",
       "      <th>Age</th>\n",
       "      <th>gender</th>\n",
       "      <th>country</th>\n",
       "      <th>residence</th>\n",
       "      <th>entryEXAM</th>\n",
       "      <th>prevEducation</th>\n",
       "      <th>studyHOURS</th>\n",
       "      <th>Python</th>\n",
       "      <th>DB</th>\n",
       "    </tr>\n",
       "  </thead>\n",
       "  <tbody>\n",
       "    <tr>\n",
       "      <th>20</th>\n",
       "      <td>Prof</td>\n",
       "      <td>Birkeland</td>\n",
       "      <td>22</td>\n",
       "      <td>Male</td>\n",
       "      <td>Norway</td>\n",
       "      <td>BI Residence</td>\n",
       "      <td>45</td>\n",
       "      <td>High School</td>\n",
       "      <td>116</td>\n",
       "      <td>33.0</td>\n",
       "      <td>30</td>\n",
       "    </tr>\n",
       "    <tr>\n",
       "      <th>21</th>\n",
       "      <td>Hanna</td>\n",
       "      <td>Isaksen</td>\n",
       "      <td>24</td>\n",
       "      <td>Female</td>\n",
       "      <td>Norway</td>\n",
       "      <td>BI Residence</td>\n",
       "      <td>50</td>\n",
       "      <td>High School</td>\n",
       "      <td>114</td>\n",
       "      <td>30.0</td>\n",
       "      <td>50</td>\n",
       "    </tr>\n",
       "    <tr>\n",
       "      <th>32</th>\n",
       "      <td>Perry</td>\n",
       "      <td>Rønning</td>\n",
       "      <td>71</td>\n",
       "      <td>Female</td>\n",
       "      <td>Norway</td>\n",
       "      <td>Private</td>\n",
       "      <td>30</td>\n",
       "      <td>Doctorate</td>\n",
       "      <td>120</td>\n",
       "      <td>31.0</td>\n",
       "      <td>42</td>\n",
       "    </tr>\n",
       "    <tr>\n",
       "      <th>48</th>\n",
       "      <td>Jenny</td>\n",
       "      <td>Kristoffersen</td>\n",
       "      <td>26</td>\n",
       "      <td>Female</td>\n",
       "      <td>Norway</td>\n",
       "      <td>BI Residence</td>\n",
       "      <td>68</td>\n",
       "      <td>High School</td>\n",
       "      <td>124</td>\n",
       "      <td>48.0</td>\n",
       "      <td>62</td>\n",
       "    </tr>\n",
       "    <tr>\n",
       "      <th>49</th>\n",
       "      <td>Thea</td>\n",
       "      <td>Knutsen</td>\n",
       "      <td>28</td>\n",
       "      <td>Male</td>\n",
       "      <td>Norway</td>\n",
       "      <td>BI Residence</td>\n",
       "      <td>69</td>\n",
       "      <td>High School</td>\n",
       "      <td>120</td>\n",
       "      <td>45.0</td>\n",
       "      <td>70</td>\n",
       "    </tr>\n",
       "    <tr>\n",
       "      <th>53</th>\n",
       "      <td>Chinedu</td>\n",
       "      <td>Morison</td>\n",
       "      <td>36</td>\n",
       "      <td>Male</td>\n",
       "      <td>Nigeria</td>\n",
       "      <td>Private</td>\n",
       "      <td>28</td>\n",
       "      <td>Diploma</td>\n",
       "      <td>120</td>\n",
       "      <td>15.0</td>\n",
       "      <td>67</td>\n",
       "    </tr>\n",
       "  </tbody>\n",
       "</table>\n",
       "</div>"
      ],
      "text/plain": [
       "      fNAME          lNAME  Age  gender  country     residence  entryEXAM  \\\n",
       "20     Prof      Birkeland   22    Male   Norway  BI Residence         45   \n",
       "21    Hanna        Isaksen   24  Female   Norway  BI Residence         50   \n",
       "32    Perry        Rønning   71  Female   Norway       Private         30   \n",
       "48    Jenny  Kristoffersen   26  Female   Norway  BI Residence         68   \n",
       "49     Thea        Knutsen   28    Male   Norway  BI Residence         69   \n",
       "53  Chinedu        Morison   36    Male  Nigeria       Private         28   \n",
       "\n",
       "   prevEducation  studyHOURS  Python  DB  \n",
       "20   High School         116    33.0  30  \n",
       "21   High School         114    30.0  50  \n",
       "32     Doctorate         120    31.0  42  \n",
       "48   High School         124    48.0  62  \n",
       "49   High School         120    45.0  70  \n",
       "53       Diploma         120    15.0  67  "
      ]
     },
     "execution_count": 28,
     "metadata": {},
     "output_type": "execute_result"
    }
   ],
   "source": [
    "outlier_rows_python = df_data.iloc[outliers_indices_python]\n",
    "outlier_rows_python"
   ]
  },
  {
   "cell_type": "code",
   "execution_count": 29,
   "id": "fde26b99-1202-4459-9195-dced6d35b68d",
   "metadata": {},
   "outputs": [
    {
     "data": {
      "text/html": [
       "<div>\n",
       "<style scoped>\n",
       "    .dataframe tbody tr th:only-of-type {\n",
       "        vertical-align: middle;\n",
       "    }\n",
       "\n",
       "    .dataframe tbody tr th {\n",
       "        vertical-align: top;\n",
       "    }\n",
       "\n",
       "    .dataframe thead th {\n",
       "        text-align: right;\n",
       "    }\n",
       "</style>\n",
       "<table border=\"1\" class=\"dataframe\">\n",
       "  <thead>\n",
       "    <tr style=\"text-align: right;\">\n",
       "      <th></th>\n",
       "      <th>fNAME</th>\n",
       "      <th>lNAME</th>\n",
       "      <th>Age</th>\n",
       "      <th>gender</th>\n",
       "      <th>country</th>\n",
       "      <th>residence</th>\n",
       "      <th>entryEXAM</th>\n",
       "      <th>prevEducation</th>\n",
       "      <th>studyHOURS</th>\n",
       "      <th>Python</th>\n",
       "      <th>DB</th>\n",
       "    </tr>\n",
       "  </thead>\n",
       "  <tbody>\n",
       "    <tr>\n",
       "      <th>3</th>\n",
       "      <td>Shoni</td>\n",
       "      <td>Hlongwane</td>\n",
       "      <td>22</td>\n",
       "      <td>Female</td>\n",
       "      <td>Rsa</td>\n",
       "      <td>Sognsvann</td>\n",
       "      <td>40</td>\n",
       "      <td>High School</td>\n",
       "      <td>120</td>\n",
       "      <td>75.853333</td>\n",
       "      <td>44</td>\n",
       "    </tr>\n",
       "    <tr>\n",
       "      <th>4</th>\n",
       "      <td>Maria</td>\n",
       "      <td>Kedibone</td>\n",
       "      <td>23</td>\n",
       "      <td>Female</td>\n",
       "      <td>South Africa</td>\n",
       "      <td>Sognsvann</td>\n",
       "      <td>65</td>\n",
       "      <td>High School</td>\n",
       "      <td>122</td>\n",
       "      <td>91.000000</td>\n",
       "      <td>80</td>\n",
       "    </tr>\n",
       "    <tr>\n",
       "      <th>20</th>\n",
       "      <td>Prof</td>\n",
       "      <td>Birkeland</td>\n",
       "      <td>22</td>\n",
       "      <td>Male</td>\n",
       "      <td>Norway</td>\n",
       "      <td>BI Residence</td>\n",
       "      <td>45</td>\n",
       "      <td>High School</td>\n",
       "      <td>116</td>\n",
       "      <td>33.000000</td>\n",
       "      <td>30</td>\n",
       "    </tr>\n",
       "    <tr>\n",
       "      <th>21</th>\n",
       "      <td>Hanna</td>\n",
       "      <td>Isaksen</td>\n",
       "      <td>24</td>\n",
       "      <td>Female</td>\n",
       "      <td>Norway</td>\n",
       "      <td>BI Residence</td>\n",
       "      <td>50</td>\n",
       "      <td>High School</td>\n",
       "      <td>114</td>\n",
       "      <td>30.000000</td>\n",
       "      <td>50</td>\n",
       "    </tr>\n",
       "    <tr>\n",
       "      <th>32</th>\n",
       "      <td>Perry</td>\n",
       "      <td>Rønning</td>\n",
       "      <td>71</td>\n",
       "      <td>Female</td>\n",
       "      <td>Norway</td>\n",
       "      <td>Private</td>\n",
       "      <td>30</td>\n",
       "      <td>Doctorate</td>\n",
       "      <td>120</td>\n",
       "      <td>31.000000</td>\n",
       "      <td>42</td>\n",
       "    </tr>\n",
       "    <tr>\n",
       "      <th>49</th>\n",
       "      <td>Thea</td>\n",
       "      <td>Knutsen</td>\n",
       "      <td>28</td>\n",
       "      <td>Male</td>\n",
       "      <td>Norway</td>\n",
       "      <td>BI Residence</td>\n",
       "      <td>69</td>\n",
       "      <td>High School</td>\n",
       "      <td>120</td>\n",
       "      <td>45.000000</td>\n",
       "      <td>70</td>\n",
       "    </tr>\n",
       "    <tr>\n",
       "      <th>53</th>\n",
       "      <td>Chinedu</td>\n",
       "      <td>Morison</td>\n",
       "      <td>36</td>\n",
       "      <td>Male</td>\n",
       "      <td>Nigeria</td>\n",
       "      <td>Private</td>\n",
       "      <td>28</td>\n",
       "      <td>Diploma</td>\n",
       "      <td>120</td>\n",
       "      <td>15.000000</td>\n",
       "      <td>67</td>\n",
       "    </tr>\n",
       "  </tbody>\n",
       "</table>\n",
       "</div>"
      ],
      "text/plain": [
       "      fNAME      lNAME  Age  gender       country     residence  entryEXAM  \\\n",
       "3     Shoni  Hlongwane   22  Female           Rsa     Sognsvann         40   \n",
       "4     Maria   Kedibone   23  Female  South Africa     Sognsvann         65   \n",
       "20     Prof  Birkeland   22    Male        Norway  BI Residence         45   \n",
       "21    Hanna    Isaksen   24  Female        Norway  BI Residence         50   \n",
       "32    Perry    Rønning   71  Female        Norway       Private         30   \n",
       "49     Thea    Knutsen   28    Male        Norway  BI Residence         69   \n",
       "53  Chinedu    Morison   36    Male       Nigeria       Private         28   \n",
       "\n",
       "   prevEducation  studyHOURS     Python  DB  \n",
       "3    High School         120  75.853333  44  \n",
       "4    High School         122  91.000000  80  \n",
       "20   High School         116  33.000000  30  \n",
       "21   High School         114  30.000000  50  \n",
       "32     Doctorate         120  31.000000  42  \n",
       "49   High School         120  45.000000  70  \n",
       "53       Diploma         120  15.000000  67  "
      ]
     },
     "execution_count": 29,
     "metadata": {},
     "output_type": "execute_result"
    }
   ],
   "source": [
    "outlier_rows_studyHOURS = df_data.iloc[outliers_indices_studyHOURS]\n",
    "outlier_rows_studyHOURS"
   ]
  },
  {
   "cell_type": "code",
   "execution_count": 30,
   "id": "10c086ae-4647-4919-96d3-8d0a745e52f9",
   "metadata": {},
   "outputs": [],
   "source": [
    "numeric_columns = df_data.select_dtypes(include=['number']).columns"
   ]
  },
  {
   "cell_type": "code",
   "execution_count": 31,
   "id": "cc609ed0-76ae-4000-8ffa-f6888d346e46",
   "metadata": {},
   "outputs": [],
   "source": [
    "outliers_indices = detect_outliers(df_data, 0 , numeric_columns)"
   ]
  },
  {
   "cell_type": "code",
   "execution_count": 32,
   "id": "09859592-35d7-4713-8033-2bb7cf60ab7c",
   "metadata": {},
   "outputs": [],
   "source": [
    "df_cleaned = df_data.drop(outliers_indices)"
   ]
  },
  {
   "cell_type": "code",
   "execution_count": 33,
   "id": "68bcb65b-d0fb-48ff-8108-b437a70b8bbc",
   "metadata": {},
   "outputs": [
    {
     "data": {
      "text/plain": [
       "<bound method DataFrame.info of         fNAME      lNAME  Age  gender       country  residence  entryEXAM  \\\n",
       "0   Christina     Binger   44  Female        Norway    Private         72   \n",
       "1        Alex   Walekhwa   60    Male         Kenya    Private         79   \n",
       "2      Philip        Leo   25    Male        Uganda  Sognsvann         55   \n",
       "3       Shoni  Hlongwane   22  Female           Rsa  Sognsvann         40   \n",
       "4       Maria   Kedibone   23  Female  South Africa  Sognsvann         65   \n",
       "..        ...        ...  ...     ...           ...        ...        ...   \n",
       "72      Clara    Bernard   43  Female        France    Private         80   \n",
       "73     Julian    Nielsen   31    Male       Denmark  Sognsvann         90   \n",
       "74     Sophie      Brown   33  Female            UK  Sognsvann         96   \n",
       "75       Leon      Bauer   35    Male       Germany  Sognsvann         90   \n",
       "76   Mohammed      Salim   31    Male        Somali  Sognsvann         35   \n",
       "\n",
       "   prevEducation  studyHOURS     Python  DB  \n",
       "0        Masters         158  59.000000  55  \n",
       "1        Diploma         150  60.000000  75  \n",
       "2    High School         130  74.000000  50  \n",
       "3    High School         120  75.853333  44  \n",
       "4    High School         122  91.000000  80  \n",
       "..           ...         ...        ...  ..  \n",
       "72     Bachelors         150  75.000000  43  \n",
       "73       Masters         158  84.000000  83  \n",
       "74       Masters         158  85.000000  90  \n",
       "75       Masters         160  87.000000  74  \n",
       "76       Masters         144  72.000000  90  \n",
       "\n",
       "[77 rows x 11 columns]>"
      ]
     },
     "execution_count": 33,
     "metadata": {},
     "output_type": "execute_result"
    }
   ],
   "source": [
    "df_data.info"
   ]
  },
  {
   "cell_type": "markdown",
   "id": "9a522e4e-c98f-416a-b89b-d290efde39df",
   "metadata": {},
   "source": [
    "Saving to new CSV"
   ]
  },
  {
   "cell_type": "code",
   "execution_count": 34,
   "id": "9eaa540b-2b3c-4a53-8350-979508b2d530",
   "metadata": {},
   "outputs": [
    {
     "name": "stdout",
     "output_type": "stream",
     "text": [
      "Cleaned data saved to cleaned_data.csv\n"
     ]
    }
   ],
   "source": [
    "df_cleaned.to_csv(\"cleaned_data.csv\", index=False)\n",
    "print(\"Cleaned data saved to cleaned_data.csv\")"
   ]
  },
  {
   "cell_type": "markdown",
   "id": "f1da11e1-7166-45a0-af78-2551fc1051bd",
   "metadata": {},
   "source": [
    "I found many data in dender column recorded with different ways as Male,M,male and replaced M and male with Male the same way as for female\n",
    "I found many data in country as Norway recorded as norway so i replaced them with Norway \n",
    "I found many data in prevEducation as highschool,bachelorers and i replaced them all with Bachelors and High School"
   ]
  },
  {
   "cell_type": "markdown",
   "id": "13f3e67f-1a50-43b1-b3b6-176e8b314c00",
   "metadata": {},
   "source": [
    "There were a missing data that was discovered by this method 'df_data.isnull().sum()' and it shows that there is 2 missing data in python columns so i replaced them by mean of the column python"
   ]
  },
  {
   "cell_type": "markdown",
   "id": "26f9a91b-ea72-4d88-89c4-c6d3470da0c6",
   "metadata": {},
   "source": [
    "There were about 10 rows of outliers data discovered 6 in python column , 7 in studyHours column and others in other numeric columns they were discovered by calculating interquartile range and detect minimum and maximum limit to remove data upper or lower these ranges and can be detected by pandas as \"outliersIndices = detect_outliers(df_data, 0 , numeric_columns)\" then dropping these rows and finally saved these cleaned data to new CSV file"
   ]
  },
  {
   "cell_type": "code",
   "execution_count": null,
   "id": "494edc3b-d3e8-46bd-a4d6-5621115bed49",
   "metadata": {},
   "outputs": [],
   "source": []
  }
 ],
 "metadata": {
  "kernelspec": {
   "display_name": "Python 3 (ipykernel)",
   "language": "python",
   "name": "python3"
  },
  "language_info": {
   "codemirror_mode": {
    "name": "ipython",
    "version": 3
   },
   "file_extension": ".py",
   "mimetype": "text/x-python",
   "name": "python",
   "nbconvert_exporter": "python",
   "pygments_lexer": "ipython3",
   "version": "3.13.5"
  }
 },
 "nbformat": 4,
 "nbformat_minor": 5
}
